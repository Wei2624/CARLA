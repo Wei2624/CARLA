{
 "cells": [
  {
   "cell_type": "markdown",
   "metadata": {
    "collapsed": true,
    "pycharm": {
     "name": "#%% md\n"
    }
   },
   "source": [
    "In the following notebook we will show how you can use the CARLA library."
   ]
  },
  {
   "cell_type": "markdown",
   "source": [
    "## Data\n",
    "\n",
    "Before we can do anything else we need some data.\n",
    "You could import one of the datasets in our [catalog](https://carla-counterfactual-and-recourse-library.readthedocs.io/en/latest/data.html#module-data.catalog.catalog),\n",
    "however maybe you want to use your own data instead."
   ],
   "metadata": {
    "collapsed": false,
    "pycharm": {
     "name": "#%% md\n"
    }
   }
  },
  {
   "cell_type": "code",
   "execution_count": 1,
   "outputs": [
    {
     "name": "stderr",
     "output_type": "stream",
     "text": [
      "Using TensorFlow backend.\n"
     ]
    },
    {
     "name": "stdout",
     "output_type": "stream",
     "text": [
      "[INFO] Using Python-MIP package version 1.12.0 [model.py <module>]\n"
     ]
    }
   ],
   "source": [
    "import warnings\n",
    "warnings.filterwarnings('ignore')\n",
    "\n",
    "from carla.data.catalog import CsvCatalog"
   ],
   "metadata": {
    "collapsed": false,
    "pycharm": {
     "name": "#%%\n"
    }
   }
  },
  {
   "cell_type": "code",
   "execution_count": 2,
   "outputs": [
    {
     "name": "stdout",
     "output_type": "stream",
     "text": [
      "            age    fnlwgt  education-num  capital-gain  capital-loss  ...  \\\n",
      "0      0.301370  0.044131       0.800000      0.021740           0.0  ...   \n",
      "1      0.452055  0.048052       0.800000      0.000000           0.0  ...   \n",
      "2      0.287671  0.137581       0.533333      0.000000           0.0  ...   \n",
      "3      0.493151  0.150486       0.400000      0.000000           0.0  ...   \n",
      "4      0.150685  0.220635       0.800000      0.000000           0.0  ...   \n",
      "...         ...       ...            ...           ...           ...  ...   \n",
      "48827  0.301370  0.137428       0.800000      0.000000           0.0  ...   \n",
      "48828  0.643836  0.209130       0.533333      0.000000           0.0  ...   \n",
      "48829  0.287671  0.245379       0.800000      0.000000           0.0  ...   \n",
      "48830  0.369863  0.048444       0.800000      0.054551           0.0  ...   \n",
      "48831  0.246575  0.114919       0.800000      0.000000           0.0  ...   \n",
      "\n",
      "       occupation_Other  race_White  relationship_Non-Husband  sex_Male  \\\n",
      "0                   0.0         1.0                       1.0       1.0   \n",
      "1                   0.0         1.0                       0.0       1.0   \n",
      "2                   1.0         1.0                       1.0       1.0   \n",
      "3                   1.0         0.0                       0.0       1.0   \n",
      "4                   0.0         0.0                       1.0       0.0   \n",
      "...                 ...         ...                       ...       ...   \n",
      "48827               0.0         1.0                       1.0       0.0   \n",
      "48828               0.0         0.0                       1.0       1.0   \n",
      "48829               0.0         1.0                       0.0       1.0   \n",
      "48830               0.0         0.0                       1.0       1.0   \n",
      "48831               0.0         1.0                       0.0       1.0   \n",
      "\n",
      "       workclass_Private  \n",
      "0                    0.0  \n",
      "1                    0.0  \n",
      "2                    1.0  \n",
      "3                    1.0  \n",
      "4                    1.0  \n",
      "...                  ...  \n",
      "48827                1.0  \n",
      "48828                1.0  \n",
      "48829                1.0  \n",
      "48830                1.0  \n",
      "48831                0.0  \n",
      "\n",
      "[48832 rows x 14 columns]\n"
     ]
    }
   ],
   "source": [
    "continuous = [\"age\", \"fnlwgt\", \"education-num\", \"capital-gain\", \"hours-per-week\", \"capital-loss\"]\n",
    "categorical = [\"marital-status\", \"native-country\", \"occupation\", \"race\", \"relationship\", \"sex\", \"workclass\"]\n",
    "immutable = [\"age\", \"sex\"]\n",
    "\n",
    "dataset = CsvCatalog(file_path=\"adult.csv\",\n",
    "                     continuous=continuous,\n",
    "                     categorical=categorical,\n",
    "                     immutables=immutable,\n",
    "                     target='income')\n",
    "\n",
    "print(dataset.df)"
   ],
   "metadata": {
    "collapsed": false,
    "pycharm": {
     "name": "#%%\n"
    }
   }
  },
  {
   "cell_type": "markdown",
   "source": [
    "## Model\n",
    "\n",
    "Now that we have the data loaded we also need a classification model.\n",
    "You could define your own [model](https://carla-counterfactual-and-recourse-library.readthedocs.io/en/latest/examples.html#black-box-model),\n",
    "however here we will show how you can train one of our [catalog](https://carla-counterfactual-and-recourse-library.readthedocs.io/en/latest/mlmodel.html#module-models.catalog.catalog) models.\n",
    "Note that depending on your data you might need to tweak the training hyperparameters."
   ],
   "metadata": {
    "collapsed": false,
    "pycharm": {
     "name": "#%% md\n"
    }
   }
  },
  {
   "cell_type": "code",
   "execution_count": 3,
   "outputs": [],
   "source": [
    "from carla.models.catalog import MLModelCatalog"
   ],
   "metadata": {
    "collapsed": false,
    "pycharm": {
     "name": "#%%\n"
    }
   }
  },
  {
   "cell_type": "code",
   "execution_count": 4,
   "outputs": [
    {
     "name": "stdout",
     "output_type": "stream",
     "text": [
      "Loaded model from /home/johan/carla/models/custom/ann_layers_18_9_3.pt\n",
      "test accuracy for model: 0.840678243774574\n"
     ]
    }
   ],
   "source": [
    "training_params = {\"lr\": 0.002, \"epochs\": 10, \"batch_size\": 1024, \"hidden_size\": [18, 9, 3]}\n",
    "\n",
    "ml_model = MLModelCatalog(\n",
    "    dataset, model_type=\"ann\", load_online=False, backend=\"pytorch\"\n",
    ")\n",
    "ml_model.train(\n",
    "    learning_rate=training_params[\"lr\"],\n",
    "    epochs=training_params[\"epochs\"],\n",
    "    batch_size=training_params[\"batch_size\"],\n",
    "    hidden_size=training_params[\"hidden_size\"]\n",
    ")"
   ],
   "metadata": {
    "collapsed": false,
    "pycharm": {
     "name": "#%%\n"
    }
   }
  },
  {
   "cell_type": "markdown",
   "source": [
    "## Recourse\n",
    "\n",
    "Now that we have both the data, and a model we can start using CARLA to generate counterfactuals.\n",
    "You can pick a [recourse method](https://carla-counterfactual-and-recourse-library.readthedocs.io/en/latest/recourse.html) from the catalog, or implement one yourself.\n",
    "In the following example we are getting negative labeled samples for which we want counterfactuals."
   ],
   "metadata": {
    "collapsed": false,
    "pycharm": {
     "name": "#%% md\n"
    }
   }
  },
  {
   "cell_type": "code",
   "execution_count": 5,
   "outputs": [],
   "source": [
    "from carla.models.negative_instances import predict_negative_instances\n",
    "import carla.recourse_methods.catalog as recourse_catalog"
   ],
   "metadata": {
    "collapsed": false,
    "pycharm": {
     "name": "#%%\n"
    }
   }
  },
  {
   "cell_type": "code",
   "execution_count": 6,
   "outputs": [
    {
     "name": "stdout",
     "output_type": "stream",
     "text": [
      "[INFO] Start training of Variational Autoencoder... [models.py fit]\n",
      "[INFO] [Epoch: 0/5] [objective: 0.374] [models.py fit]\n",
      "[INFO] [ELBO train: 0.37] [models.py fit]\n",
      "[INFO] [ELBO train: 0.13] [models.py fit]\n",
      "[INFO] [ELBO train: 0.12] [models.py fit]\n",
      "[INFO] [ELBO train: 0.12] [models.py fit]\n",
      "[INFO] [ELBO train: 0.12] [models.py fit]\n",
      "[INFO] ... finished training of Variational Autoencoder. [models.py fit]\n",
      "        age  capital-gain  capital-loss  education-num    fnlwgt  ...  \\\n",
      "0  0.306860      0.036312      0.039532       0.606228  0.119245  ...   \n",
      "1  0.307038      0.036296      0.040064       0.605119  0.119296  ...   \n",
      "2  0.304983      0.036325      0.039844       0.605189  0.119365  ...   \n",
      "3  0.307777      0.036302      0.039464       0.604545  0.119389  ...   \n",
      "4  0.303826      0.036342      0.039917       0.604851  0.119533  ...   \n",
      "\n",
      "   race_White  relationship_Non-Husband  sex_Male  workclass_Private  income  \n",
      "0         1.0                       0.0       1.0           0.733125     1.0  \n",
      "1         1.0                       0.0       1.0           0.732711     1.0  \n",
      "2         1.0                       0.0       1.0           0.734998     1.0  \n",
      "3         1.0                       0.0       1.0           0.732213     1.0  \n",
      "4         1.0                       0.0       1.0           0.735222     1.0  \n",
      "\n",
      "[5 rows x 14 columns]\n"
     ]
    }
   ],
   "source": [
    "# get factuals\n",
    "factuals = predict_negative_instances(ml_model, dataset.df)\n",
    "test_factual = factuals.iloc[:5]\n",
    "\n",
    "hyperparams = {\n",
    "    \"data_name\": dataset.name,\n",
    "    \"n_search_samples\": 100,\n",
    "    \"p_norm\": 1,\n",
    "    \"step\": 0.1,\n",
    "    \"max_iter\": 1000,\n",
    "    \"clamp\": True,\n",
    "    \"binary_cat_features\": False,\n",
    "    \"vae_params\": {\n",
    "        \"layers\": [len(ml_model.feature_input_order), 512, 256, 8],\n",
    "        \"train\": True,\n",
    "        \"lambda_reg\": 1e-6,\n",
    "        \"epochs\": 5,\n",
    "        \"lr\": 1e-3,\n",
    "        \"batch_size\": 32,\n",
    "    },\n",
    "}\n",
    "\n",
    "cchvae = recourse_catalog.CCHVAE(ml_model, hyperparams)\n",
    "df_cfs = cchvae.get_counterfactuals(test_factual)\n",
    "\n",
    "print(df_cfs)"
   ],
   "metadata": {
    "collapsed": false,
    "pycharm": {
     "name": "#%%\n"
    }
   }
  }
 ],
 "metadata": {
  "kernelspec": {
   "display_name": "Python 3",
   "language": "python",
   "name": "python3"
  },
  "language_info": {
   "codemirror_mode": {
    "name": "ipython",
    "version": 2
   },
   "file_extension": ".py",
   "mimetype": "text/x-python",
   "name": "python",
   "nbconvert_exporter": "python",
   "pygments_lexer": "ipython2",
   "version": "2.7.6"
  }
 },
 "nbformat": 4,
 "nbformat_minor": 0
}

{
 "cells": [
  {
   "cell_type": "markdown",
   "metadata": {
    "collapsed": true,
    "pycharm": {
     "name": "#%% md\n"
    }
   },
   "source": [
    "In the following notebook we will show how you can use the CARLA library."
   ]
  },
  {
   "cell_type": "markdown",
   "source": [
    "## Data\n",
    "\n",
    "Before we can do anything else we need some data.\n",
    "You could import one of the datasets in our [catalog](https://carla-counterfactual-and-recourse-library.readthedocs.io/en/latest/data.html#module-data.catalog.catalog),\n",
    "however maybe you want to use your own data instead."
   ],
   "metadata": {
    "collapsed": false,
    "pycharm": {
     "name": "#%% md\n"
    }
   }
  },
  {
   "cell_type": "code",
   "execution_count": 1,
   "outputs": [
    {
     "name": "stderr",
     "output_type": "stream",
     "text": [
      "Using TensorFlow backend.\n"
     ]
    },
    {
     "name": "stdout",
     "output_type": "stream",
     "text": [
      "[INFO] Using Python-MIP package version 1.12.0 [model.py <module>]\n"
     ]
    }
   ],
   "source": [
    "import warnings\n",
    "warnings.filterwarnings('ignore')\n",
    "\n",
    "from carla.data.catalog import CsvCatalog"
   ],
   "metadata": {
    "collapsed": false,
    "pycharm": {
     "name": "#%%\n"
    }
   }
  },
  {
   "cell_type": "code",
   "execution_count": 2,
   "outputs": [
    {
     "name": "stdout",
     "output_type": "stream",
     "text": [
      "            age    fnlwgt  education-num  capital-gain  capital-loss  ...  \\\n",
      "0      0.301370  0.044131       0.800000      0.021740           0.0  ...   \n",
      "1      0.452055  0.048052       0.800000      0.000000           0.0  ...   \n",
      "2      0.287671  0.137581       0.533333      0.000000           0.0  ...   \n",
      "3      0.493151  0.150486       0.400000      0.000000           0.0  ...   \n",
      "4      0.150685  0.220635       0.800000      0.000000           0.0  ...   \n",
      "...         ...       ...            ...           ...           ...  ...   \n",
      "48827  0.301370  0.137428       0.800000      0.000000           0.0  ...   \n",
      "48828  0.643836  0.209130       0.533333      0.000000           0.0  ...   \n",
      "48829  0.287671  0.245379       0.800000      0.000000           0.0  ...   \n",
      "48830  0.369863  0.048444       0.800000      0.054551           0.0  ...   \n",
      "48831  0.246575  0.114919       0.800000      0.000000           0.0  ...   \n",
      "\n",
      "       occupation_Other  race_White  relationship_Non-Husband  sex_Male  \\\n",
      "0                   0.0         1.0                       1.0       1.0   \n",
      "1                   0.0         1.0                       0.0       1.0   \n",
      "2                   1.0         1.0                       1.0       1.0   \n",
      "3                   1.0         0.0                       0.0       1.0   \n",
      "4                   0.0         0.0                       1.0       0.0   \n",
      "...                 ...         ...                       ...       ...   \n",
      "48827               0.0         1.0                       1.0       0.0   \n",
      "48828               0.0         0.0                       1.0       1.0   \n",
      "48829               0.0         1.0                       0.0       1.0   \n",
      "48830               0.0         0.0                       1.0       1.0   \n",
      "48831               0.0         1.0                       0.0       1.0   \n",
      "\n",
      "       workclass_Private  \n",
      "0                    0.0  \n",
      "1                    0.0  \n",
      "2                    1.0  \n",
      "3                    1.0  \n",
      "4                    1.0  \n",
      "...                  ...  \n",
      "48827                1.0  \n",
      "48828                1.0  \n",
      "48829                1.0  \n",
      "48830                1.0  \n",
      "48831                0.0  \n",
      "\n",
      "[48832 rows x 14 columns]\n"
     ]
    }
   ],
   "source": [
    "continuous = [\"age\", \"fnlwgt\", \"education-num\", \"capital-gain\", \"hours-per-week\", \"capital-loss\"]\n",
    "categorical = [\"marital-status\", \"native-country\", \"occupation\", \"race\", \"relationship\", \"sex\", \"workclass\"]\n",
    "immutable = [\"age\", \"sex\"]\n",
    "\n",
    "dataset = CsvCatalog(file_path=\"adult.csv\",\n",
    "                     continuous=continuous,\n",
    "                     categorical=categorical,\n",
    "                     immutables=immutable,\n",
    "                     target='income')\n",
    "\n",
    "print(dataset.df)"
   ],
   "metadata": {
    "collapsed": false,
    "pycharm": {
     "name": "#%%\n"
    }
   }
  },
  {
   "cell_type": "markdown",
   "source": [
    "## Model\n",
    "\n",
    "Now that we have the data loaded we also need a classification model.\n",
    "You could define your own [model](https://carla-counterfactual-and-recourse-library.readthedocs.io/en/latest/examples.html#black-box-model),\n",
    "however here we will show how you can train one of our [catalog](https://carla-counterfactual-and-recourse-library.readthedocs.io/en/latest/mlmodel.html#module-models.catalog.catalog) models.\n",
    "Note that depending on your data you might need to tweak the training hyperparameters."
   ],
   "metadata": {
    "collapsed": false,
    "pycharm": {
     "name": "#%% md\n"
    }
   }
  },
  {
   "cell_type": "code",
   "execution_count": 3,
   "outputs": [
    {
     "name": "stdout",
     "output_type": "stream",
     "text": [
      "[WARNING] From /home/johan/Dropbox/Documents/Master/HiWi/CARLA/carla/recourse_methods/catalog/focus/distances.py:2: The name tf.losses.Reduction is deprecated. Please use tf.compat.v1.losses.Reduction instead.\n",
      " [deprecation_wrapper.py __getattr__]\n"
     ]
    }
   ],
   "source": [
    "from carla.recourse_methods.catalog.focus.tree_model import ForestModel, XGBoostModel"
   ],
   "metadata": {
    "collapsed": false,
    "pycharm": {
     "name": "#%%\n"
    }
   }
  },
  {
   "cell_type": "code",
   "execution_count": 4,
   "outputs": [
    {
     "name": "stdout",
     "output_type": "stream",
     "text": [
      "[0]\tvalidation_0-logloss:0.58379\tvalidation_1-logloss:0.58367\n",
      "[1]\tvalidation_0-logloss:0.52351\tvalidation_1-logloss:0.52342\n",
      "[2]\tvalidation_0-logloss:0.48537\tvalidation_1-logloss:0.48545\n",
      "[3]\tvalidation_0-logloss:0.46049\tvalidation_1-logloss:0.45962\n",
      "[4]\tvalidation_0-logloss:0.44151\tvalidation_1-logloss:0.44143\n"
     ]
    }
   ],
   "source": [
    "ml_model = XGBoostModel(dataset)\n"
   ],
   "metadata": {
    "collapsed": false,
    "pycharm": {
     "name": "#%%\n"
    }
   }
  },
  {
   "cell_type": "markdown",
   "source": [
    "## Recourse\n",
    "\n",
    "Now that we have both the data, and a model we can start using CARLA to generate counterfactuals.\n",
    "You can pick a [recourse method](https://carla-counterfactual-and-recourse-library.readthedocs.io/en/latest/recourse.html) from the catalog, or implement one yourself.\n",
    "In the following example we are getting negative labeled samples for which we want counterfactuals."
   ],
   "metadata": {
    "collapsed": false,
    "pycharm": {
     "name": "#%% md\n"
    }
   }
  },
  {
   "cell_type": "code",
   "execution_count": 5,
   "outputs": [],
   "source": [
    "from carla.models.negative_instances import predict_negative_instances\n",
    "import carla.recourse_methods.catalog as recourse_catalog"
   ],
   "metadata": {
    "collapsed": false,
    "pycharm": {
     "name": "#%%\n"
    }
   }
  },
  {
   "cell_type": "code",
   "execution_count": 6,
   "outputs": [
    {
     "ename": "AttributeError",
     "evalue": "module 'carla.recourse_methods.catalog' has no attribute 'FeatureTweak'",
     "output_type": "error",
     "traceback": [
      "\u001B[0;31m---------------------------------------------------------------------------\u001B[0m",
      "\u001B[0;31mAttributeError\u001B[0m                            Traceback (most recent call last)",
      "\u001B[0;32m<ipython-input-6-10952403d471>\u001B[0m in \u001B[0;36m<module>\u001B[0;34m\u001B[0m\n\u001B[1;32m      7\u001B[0m }\n\u001B[1;32m      8\u001B[0m \u001B[0;34m\u001B[0m\u001B[0m\n\u001B[0;32m----> 9\u001B[0;31m \u001B[0mfeature_tweak\u001B[0m \u001B[0;34m=\u001B[0m \u001B[0mrecourse_catalog\u001B[0m\u001B[0;34m.\u001B[0m\u001B[0mFeatureTweak\u001B[0m\u001B[0;34m(\u001B[0m\u001B[0mml_model\u001B[0m\u001B[0;34m,\u001B[0m \u001B[0mhyperparams\u001B[0m\u001B[0;34m)\u001B[0m\u001B[0;34m\u001B[0m\u001B[0;34m\u001B[0m\u001B[0m\n\u001B[0m\u001B[1;32m     10\u001B[0m \u001B[0mdf_cfs\u001B[0m \u001B[0;34m=\u001B[0m \u001B[0mfeature_tweak\u001B[0m\u001B[0;34m.\u001B[0m\u001B[0mget_counterfactuals\u001B[0m\u001B[0;34m(\u001B[0m\u001B[0mtest_factual\u001B[0m\u001B[0;34m)\u001B[0m\u001B[0;34m\u001B[0m\u001B[0;34m\u001B[0m\u001B[0m\n\u001B[1;32m     11\u001B[0m \u001B[0;34m\u001B[0m\u001B[0m\n",
      "\u001B[0;31mAttributeError\u001B[0m: module 'carla.recourse_methods.catalog' has no attribute 'FeatureTweak'"
     ]
    }
   ],
   "source": [
    "# get factuals\n",
    "factuals = predict_negative_instances(ml_model, dataset.df)\n",
    "test_factual = factuals.iloc[:5]\n",
    "\n",
    "hyperparams = {\n",
    "    \"optimizer\": \"adam\",\n",
    "    \"lr\": 0.001,\n",
    "    \"n_class\": 2,\n",
    "    \"n_iter\": 1000,\n",
    "    \"sigma\": 1.0,\n",
    "    \"temperature\": 1.0,\n",
    "    \"distance_weight\": 0.01,\n",
    "    \"distance_func\": \"l1\",\n",
    "}\n",
    "\n",
    "focus = recourse_catalog.FOCUS(ml_model, dataset, hyperparams)\n",
    "df_cfs = focus.get_counterfactuals(test_factual)"
   ],
   "metadata": {
    "collapsed": false,
    "pycharm": {
     "name": "#%%\n"
    }
   }
  }
 ],
 "metadata": {
  "kernelspec": {
   "display_name": "Python 3",
   "language": "python",
   "name": "python3"
  },
  "language_info": {
   "codemirror_mode": {
    "name": "ipython",
    "version": 2
   },
   "file_extension": ".py",
   "mimetype": "text/x-python",
   "name": "python",
   "nbconvert_exporter": "python",
   "pygments_lexer": "ipython2",
   "version": "2.7.6"
  }
 },
 "nbformat": 4,
 "nbformat_minor": 0
}
